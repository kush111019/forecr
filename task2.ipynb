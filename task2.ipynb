{
 "cells": [
  {
   "cell_type": "code",
   "execution_count": 1,
   "metadata": {},
   "outputs": [],
   "source": [
    "import pandas as pd\n",
    "import os\n",
    "os.chdir(\"C://Users/Lenovo/Desktop/r\")"
   ]
  },
  {
   "cell_type": "code",
   "execution_count": 2,
   "metadata": {},
   "outputs": [
    {
     "name": "stdout",
     "output_type": "stream",
     "text": [
      "Requirement already satisfied: beautifulsoup4 in c:\\users\\lenovo\\anaconda3\\lib\\site-packages (4.9.3)Note: you may need to restart the kernel to use updated packages.\n",
      "Requirement already satisfied: soupsieve>1.2; python_version >= \"3.0\" in c:\\users\\lenovo\\anaconda3\\lib\\site-packages (from beautifulsoup4) (2.0.1)\n",
      "\n"
     ]
    }
   ],
   "source": [
    "pip install beautifulsoup4"
   ]
  },
  {
   "cell_type": "code",
   "execution_count": 3,
   "metadata": {},
   "outputs": [
    {
     "name": "stdout",
     "output_type": "stream",
     "text": [
      "Requirement already satisfied: requests in c:\\users\\lenovo\\anaconda3\\lib\\site-packages (2.24.0)Note: you may need to restart the kernel to use updated packages.\n",
      "Requirement already satisfied: idna<3,>=2.5 in c:\\users\\lenovo\\anaconda3\\lib\\site-packages (from requests) (2.10)\n",
      "Requirement already satisfied: urllib3!=1.25.0,!=1.25.1,<1.26,>=1.21.1 in c:\\users\\lenovo\\anaconda3\\lib\\site-packages (from requests) (1.25.11)\n",
      "Requirement already satisfied: certifi>=2017.4.17 in c:\\users\\lenovo\\anaconda3\\lib\\site-packages (from requests) (2020.6.20)\n",
      "Requirement already satisfied: chardet<4,>=3.0.2 in c:\\users\\lenovo\\anaconda3\\lib\\site-packages (from requests) (3.0.4)\n",
      "\n"
     ]
    }
   ],
   "source": [
    "pip install requests"
   ]
  },
  {
   "cell_type": "code",
   "execution_count": 4,
   "metadata": {},
   "outputs": [],
   "source": [
    "import requests\n",
    "from bs4 import BeautifulSoup"
   ]
  },
  {
   "cell_type": "code",
   "execution_count": 5,
   "metadata": {},
   "outputs": [
    {
     "name": "stdout",
     "output_type": "stream",
     "text": [
      "Requirement already satisfied: autoscraper in c:\\users\\lenovo\\anaconda3\\lib\\site-packages (1.1.12)\n",
      "Requirement already satisfied: bs4 in c:\\users\\lenovo\\anaconda3\\lib\\site-packages (from autoscraper) (0.0.1)\n",
      "Requirement already satisfied: lxml in c:\\users\\lenovo\\anaconda3\\lib\\site-packages (from autoscraper) (4.6.1)\n",
      "Requirement already satisfied: requests in c:\\users\\lenovo\\anaconda3\\lib\\site-packages (from autoscraper) (2.24.0)\n",
      "Requirement already satisfied: beautifulsoup4 in c:\\users\\lenovo\\anaconda3\\lib\\site-packages (from bs4->autoscraper) (4.9.3)\n",
      "Requirement already satisfied: urllib3!=1.25.0,!=1.25.1,<1.26,>=1.21.1 in c:\\users\\lenovo\\anaconda3\\lib\\site-packages (from requests->autoscraper) (1.25.11)\n",
      "Requirement already satisfied: chardet<4,>=3.0.2 in c:\\users\\lenovo\\anaconda3\\lib\\site-packages (from requests->autoscraper) (3.0.4)\n",
      "Requirement already satisfied: idna<3,>=2.5 in c:\\users\\lenovo\\anaconda3\\lib\\site-packages (from requests->autoscraper) (2.10)\n",
      "Requirement already satisfied: certifi>=2017.4.17 in c:\\users\\lenovo\\anaconda3\\lib\\site-packages (from requests->autoscraper) (2020.6.20)\n",
      "Requirement already satisfied: soupsieve>1.2; python_version >= \"3.0\" in c:\\users\\lenovo\\anaconda3\\lib\\site-packages (from beautifulsoup4->bs4->autoscraper) (2.0.1)\n",
      "Note: you may need to restart the kernel to use updated packages.\n"
     ]
    }
   ],
   "source": [
    "pip install autoscraper"
   ]
  },
  {
   "cell_type": "code",
   "execution_count": 6,
   "metadata": {},
   "outputs": [],
   "source": [
    "from autoscraper import AutoScraper"
   ]
  },
  {
   "cell_type": "code",
   "execution_count": 7,
   "metadata": {},
   "outputs": [],
   "source": [
    "url = 'https://yoshops.com/'\n",
    "wanted_list = ['Toys & Games']"
   ]
  },
  {
   "cell_type": "code",
   "execution_count": 8,
   "metadata": {},
   "outputs": [],
   "source": [
    "scraper = AutoScraper()"
   ]
  },
  {
   "cell_type": "code",
   "execution_count": 9,
   "metadata": {},
   "outputs": [
    {
     "name": "stdout",
     "output_type": "stream",
     "text": [
      "['Toys & Games', 'Mobiles', 'Laptops', 'Accessories', 'Electronics', 'Home & Kitchen', 'Fashion', 'Foods', 'Services']\n"
     ]
    }
   ],
   "source": [
    "scraper = AutoScraper()\n",
    "result = scraper.build(url,wanted_list)\n",
    "print(result)"
   ]
  },
  {
   "cell_type": "code",
   "execution_count": 10,
   "metadata": {},
   "outputs": [
    {
     "data": {
      "text/plain": [
       "{'rule_zuax': ['Toys & Games',\n",
       "  'Mobiles',\n",
       "  'Laptops',\n",
       "  'Accessories',\n",
       "  'Electronics',\n",
       "  'Home & Kitchen',\n",
       "  'Fashion',\n",
       "  'Foods',\n",
       "  'Services'],\n",
       " 'rule_60zb': ['Toys & Games']}"
      ]
     },
     "execution_count": 10,
     "metadata": {},
     "output_type": "execute_result"
    }
   ],
   "source": [
    "scraper.get_result_similar(url,grouped=True)"
   ]
  },
  {
   "cell_type": "code",
   "execution_count": 12,
   "metadata": {},
   "outputs": [],
   "source": [
    "scraper.set_rule_aliases({'rule_zuax':'Title'})\n",
    "scraper.keep_rules(['rule_zuax'])\n",
    "scraper.save('my-search')"
   ]
  },
  {
   "cell_type": "code",
   "execution_count": 13,
   "metadata": {},
   "outputs": [
    {
     "data": {
      "text/plain": [
       "['Toys & Games',\n",
       " 'Mobiles',\n",
       " 'Laptops',\n",
       " 'Accessories',\n",
       " 'Electronics',\n",
       " 'Home & Kitchen',\n",
       " 'Fashion',\n",
       " 'Foods',\n",
       " 'Services']"
      ]
     },
     "execution_count": 13,
     "metadata": {},
     "output_type": "execute_result"
    }
   ],
   "source": [
    "result=scraper.get_result_similar('https://yoshops.com/',group_by_alias=True)\n",
    "main=result['Title']\n",
    "main\n"
   ]
  },
  {
   "cell_type": "markdown",
   "metadata": {},
   "source": [
    "# now we will make sub-category\n"
   ]
  },
  {
   "cell_type": "code",
   "execution_count": 14,
   "metadata": {},
   "outputs": [],
   "source": [
    "url_1 = 'https://yoshops.com/t/playstation'\n",
    "wanted_list_1 = ['Sony PlayStation PS2 Gaming Console 150 GB Hard Disk With 50 Games Preloaded(Black)']"
   ]
  },
  {
   "cell_type": "code",
   "execution_count": 15,
   "metadata": {},
   "outputs": [],
   "source": [
    "scraper = AutoScraper()"
   ]
  },
  {
   "cell_type": "code",
   "execution_count": 16,
   "metadata": {},
   "outputs": [
    {
     "name": "stdout",
     "output_type": "stream",
     "text": [
      "['Sony PlayStation PS2 Gaming Console 150 GB Hard Disk With 50 Games Preloaded(Black)', 'Sony PlayStation PS3 Console Slim 320 GB (Black)', 'Sony PlayStation PS1 with in-built DVD Player (Black)', 'Sony PlayStation PS4 Slim 1TB Console(Black)', 'SONY PlayStation PS4 PRO 1TB Hard Disk(Black)', 'Mini VR BOX Virtual Reality Headsets with ultra 3D glasses Compatible with Android and IOS Devices (Blue, Black)', 'Big Foot Mini Monster Truck']\n"
     ]
    }
   ],
   "source": [
    "scraper = AutoScraper()\n",
    "result = scraper.build(url_1,wanted_list_1)\n",
    "print(result)"
   ]
  },
  {
   "cell_type": "code",
   "execution_count": 19,
   "metadata": {},
   "outputs": [
    {
     "data": {
      "text/plain": [
       "{'rule_onkb': ['Sony PlayStation PS2 Gaming Console 150 GB Hard Disk With 50 Games Preloaded(Black)',\n",
       "  'Sony PlayStation PS3 Console Slim 320 GB (Black)',\n",
       "  'Sony PlayStation PS1 with in-built DVD Player (Black)',\n",
       "  'Sony PlayStation PS4 Slim 1TB Console(Black)',\n",
       "  'SONY PlayStation PS4 PRO 1TB Hard Disk(Black)',\n",
       "  'Mini VR BOX Virtual Reality Headsets with ultra 3D glasses Compatible with Android and IOS Devices (Blue, Black)',\n",
       "  'Big Foot Mini Monster Truck'],\n",
       " 'rule_t4f3': ['Sony PlayStation PS2 Gaming Console 150 GB Hard Disk With 50 Games Preloaded(Black)',\n",
       "  'Sony PlayStation PS3 Console Slim 320 GB (Black)',\n",
       "  'Sony PlayStation PS1 with in-built DVD Player (Black)',\n",
       "  'Sony PlayStation PS4 Slim 1TB Console(Black)',\n",
       "  'SONY PlayStation PS4 PRO 1TB Hard Disk(Black)',\n",
       "  'Mini VR BOX Virtual Reality Headsets with ultra 3D glasses Compatible with Android and IOS Devices (Blue, Black)',\n",
       "  'Big Foot Mini Monster Truck'],\n",
       " 'rule_nva7': ['Sony PlayStation PS2 Gaming Console 150 GB Hard Disk With 50 Games Preloaded(Black)',\n",
       "  'Sony PlayStation PS3 Console Slim 320 GB (Black)',\n",
       "  'Sony PlayStation PS1 with in-built DVD Player (Black)',\n",
       "  'Sony PlayStation PS4 Slim 1TB Console(Black)',\n",
       "  'SONY PlayStation PS4 PRO 1TB Hard Disk(Black)',\n",
       "  'Mini VR BOX Virtual Reality Headsets with ultra 3D glasses Compatible with Android and IOS Devices (Blue, Black)',\n",
       "  'Big Foot Mini Monster Truck']}"
      ]
     },
     "execution_count": 19,
     "metadata": {},
     "output_type": "execute_result"
    }
   ],
   "source": [
    "scraper.get_result_similar(url_1,grouped=True)"
   ]
  },
  {
   "cell_type": "code",
   "execution_count": 20,
   "metadata": {},
   "outputs": [],
   "source": [
    "scraper.set_rule_aliases({'rule_onkb':'Title_1'})\n",
    "scraper.keep_rules(['rule_onkb'])\n",
    "scraper.save('my-search_1')"
   ]
  },
  {
   "cell_type": "code",
   "execution_count": 21,
   "metadata": {},
   "outputs": [
    {
     "data": {
      "text/plain": [
       "['Sony PlayStation PS2 Gaming Console 150 GB Hard Disk With 50 Games Preloaded(Black)',\n",
       " 'Sony PlayStation PS3 Console Slim 320 GB (Black)',\n",
       " 'Sony PlayStation PS1 with in-built DVD Player (Black)',\n",
       " 'Sony PlayStation PS4 Slim 1TB Console(Black)',\n",
       " 'SONY PlayStation PS4 PRO 1TB Hard Disk(Black)',\n",
       " 'Mini VR BOX Virtual Reality Headsets with ultra 3D glasses Compatible with Android and IOS Devices (Blue, Black)',\n",
       " 'Big Foot Mini Monster Truck']"
      ]
     },
     "execution_count": 21,
     "metadata": {},
     "output_type": "execute_result"
    }
   ],
   "source": [
    "result=scraper.get_result_similar('https://yoshops.com/t/playstation',group_by_alias=True)\n",
    "playstations=result['Title_1']\n",
    "playstations\n"
   ]
  },
  {
   "cell_type": "code",
   "execution_count": 22,
   "metadata": {},
   "outputs": [],
   "source": [
    "url_2 = 'https://yoshops.com/t/drones'\n",
    "wanted_list_2 = ['Vmax HX 750 Quadcopter Drone (No Camera)']"
   ]
  },
  {
   "cell_type": "code",
   "execution_count": 23,
   "metadata": {},
   "outputs": [],
   "source": [
    "scraper = AutoScraper()"
   ]
  },
  {
   "cell_type": "code",
   "execution_count": 24,
   "metadata": {},
   "outputs": [
    {
     "name": "stdout",
     "output_type": "stream",
     "text": [
      "['Vmax HX 750 Quadcopter Drone (No Camera)', 'The Amazing Spider Man Micro Drone Q Series Hyun Lights Upgraded Quadcopter Headless Mode One Key Features', 'Falcon Drone Four Axis Aircraft with 2.4 GHz RC, Blade Guard, Headless Mode LED Without Camera', 'Kids Drone Quadcopter 2.4G 6-Channel Without Camera', 'HX770 V-Max Aircraft Drone', 'Diabolo Captain America Civil War Q Series Hyun Lights Upgraded Mini Drone Without Camera', 'Avengers Captain America Drone Four Axis Aircraft with 2.4 GHz Without Camera', 'VMax HX763 Vision Drone 2.4GHz RC Quad-copter Headless Mode One Key Without Camera', 'Spider Man Mini Drone', 'Vmax Voyager HX756 Drones Without Camera', 'Minions Mini Drone', 'S52 Durable King Drone No Camera', 'Navigator Quadcopter Remote Control Drone', 'Drone Workshop Training Program', 'QY66 D1 Drone - 6 Axis Gyro RC Quadcopter Without camera', 'Sky King Drone 6 Axis Gyro RC Quadcopter Without camera', 'Pluto Programmable Smartphone Controlled Nano Drone', '3.7V 275mAH Lithium Polymer(LiPo) Rechargeable Battery for RC Drone', 'Big Foot Mini Monster Truck']\n"
     ]
    }
   ],
   "source": [
    "scraper = AutoScraper()\n",
    "result = scraper.build(url_2,wanted_list_2)\n",
    "print(result)"
   ]
  },
  {
   "cell_type": "code",
   "execution_count": 28,
   "metadata": {},
   "outputs": [
    {
     "data": {
      "text/plain": [
       "{'rule_fa2z': ['Vmax HX 750 Quadcopter Drone (No Camera)',\n",
       "  'The Amazing Spider Man Micro Drone Q Series Hyun Lights Upgraded Quadcopter Headless Mode One Key Features',\n",
       "  'Falcon Drone Four Axis Aircraft with 2.4 GHz RC, Blade Guard, Headless Mode LED Without Camera',\n",
       "  'Kids Drone Quadcopter 2.4G 6-Channel Without Camera',\n",
       "  'HX770 V-Max Aircraft Drone',\n",
       "  'Diabolo Captain America Civil War Q Series Hyun Lights Upgraded Mini Drone Without Camera',\n",
       "  'Avengers Captain America Drone Four Axis Aircraft with 2.4 GHz Without Camera',\n",
       "  'VMax HX763 Vision Drone 2.4GHz RC Quad-copter Headless Mode One Key Without Camera',\n",
       "  'Spider Man Mini Drone',\n",
       "  'Vmax Voyager HX756 Drones Without Camera',\n",
       "  'Minions Mini Drone',\n",
       "  'S52 Durable King Drone No Camera',\n",
       "  'Navigator Quadcopter Remote Control Drone',\n",
       "  'Drone Workshop Training Program',\n",
       "  'QY66 D1 Drone - 6 Axis Gyro RC Quadcopter Without camera',\n",
       "  'Sky King Drone 6 Axis Gyro RC Quadcopter Without camera',\n",
       "  'Pluto Programmable Smartphone Controlled Nano Drone',\n",
       "  '3.7V 275mAH Lithium Polymer(LiPo) Rechargeable Battery for RC Drone',\n",
       "  'Big Foot Mini Monster Truck'],\n",
       " 'rule_s531': ['Vmax HX 750 Quadcopter Drone (No Camera)',\n",
       "  'The Amazing Spider Man Micro Drone Q Series Hyun Lights Upgraded Quadcopter Headless Mode One Key Features',\n",
       "  'Falcon Drone Four Axis Aircraft with 2.4 GHz RC, Blade Guard, Headless Mode LED Without Camera',\n",
       "  'Kids Drone Quadcopter 2.4G 6-Channel Without Camera',\n",
       "  'HX770 V-Max Aircraft Drone',\n",
       "  'Diabolo Captain America Civil War Q Series Hyun Lights Upgraded Mini Drone Without Camera',\n",
       "  'Avengers Captain America Drone Four Axis Aircraft with 2.4 GHz Without Camera',\n",
       "  'VMax HX763 Vision Drone 2.4GHz RC Quad-copter Headless Mode One Key Without Camera',\n",
       "  'Spider Man Mini Drone',\n",
       "  'Vmax Voyager HX756 Drones Without Camera',\n",
       "  'Minions Mini Drone',\n",
       "  'S52 Durable King Drone No Camera',\n",
       "  'Navigator Quadcopter Remote Control Drone',\n",
       "  'Drone Workshop Training Program',\n",
       "  'QY66 D1 Drone - 6 Axis Gyro RC Quadcopter Without camera',\n",
       "  'Sky King Drone 6 Axis Gyro RC Quadcopter Without camera',\n",
       "  'Pluto Programmable Smartphone Controlled Nano Drone',\n",
       "  '3.7V 275mAH Lithium Polymer(LiPo) Rechargeable Battery for RC Drone',\n",
       "  'Big Foot Mini Monster Truck'],\n",
       " 'rule_zrdo': ['Vmax HX 750 Quadcopter Drone (No Camera)',\n",
       "  'The Amazing Spider Man Micro Drone Q Series Hyun Lights Upgraded Quadcopter Headless Mode One Key Features',\n",
       "  'Falcon Drone Four Axis Aircraft with 2.4 GHz RC, Blade Guard, Headless Mode LED Without Camera',\n",
       "  'Kids Drone Quadcopter 2.4G 6-Channel Without Camera',\n",
       "  'HX770 V-Max Aircraft Drone',\n",
       "  'Diabolo Captain America Civil War Q Series Hyun Lights Upgraded Mini Drone Without Camera',\n",
       "  'Avengers Captain America Drone Four Axis Aircraft with 2.4 GHz Without Camera',\n",
       "  'VMax HX763 Vision Drone 2.4GHz RC Quad-copter Headless Mode One Key Without Camera',\n",
       "  'Spider Man Mini Drone',\n",
       "  'Vmax Voyager HX756 Drones Without Camera',\n",
       "  'Minions Mini Drone',\n",
       "  'S52 Durable King Drone No Camera',\n",
       "  'Navigator Quadcopter Remote Control Drone',\n",
       "  'Drone Workshop Training Program',\n",
       "  'QY66 D1 Drone - 6 Axis Gyro RC Quadcopter Without camera',\n",
       "  'Sky King Drone 6 Axis Gyro RC Quadcopter Without camera',\n",
       "  'Pluto Programmable Smartphone Controlled Nano Drone',\n",
       "  '3.7V 275mAH Lithium Polymer(LiPo) Rechargeable Battery for RC Drone',\n",
       "  'Big Foot Mini Monster Truck']}"
      ]
     },
     "execution_count": 28,
     "metadata": {},
     "output_type": "execute_result"
    }
   ],
   "source": [
    "scraper.get_result_similar(url_2,grouped=True)"
   ]
  },
  {
   "cell_type": "code",
   "execution_count": 29,
   "metadata": {},
   "outputs": [],
   "source": [
    "scraper.set_rule_aliases({'rule_fa2z':'Title_2'})\n",
    "scraper.keep_rules(['rule_fa2z'])\n",
    "scraper.save('my-search_2')"
   ]
  },
  {
   "cell_type": "code",
   "execution_count": 30,
   "metadata": {},
   "outputs": [
    {
     "data": {
      "text/plain": [
       "['Vmax HX 750 Quadcopter Drone (No Camera)',\n",
       " 'The Amazing Spider Man Micro Drone Q Series Hyun Lights Upgraded Quadcopter Headless Mode One Key Features',\n",
       " 'Falcon Drone Four Axis Aircraft with 2.4 GHz RC, Blade Guard, Headless Mode LED Without Camera',\n",
       " 'Kids Drone Quadcopter 2.4G 6-Channel Without Camera',\n",
       " 'HX770 V-Max Aircraft Drone',\n",
       " 'Diabolo Captain America Civil War Q Series Hyun Lights Upgraded Mini Drone Without Camera',\n",
       " 'Avengers Captain America Drone Four Axis Aircraft with 2.4 GHz Without Camera',\n",
       " 'VMax HX763 Vision Drone 2.4GHz RC Quad-copter Headless Mode One Key Without Camera',\n",
       " 'Spider Man Mini Drone',\n",
       " 'Vmax Voyager HX756 Drones Without Camera',\n",
       " 'Minions Mini Drone',\n",
       " 'S52 Durable King Drone No Camera',\n",
       " 'Navigator Quadcopter Remote Control Drone',\n",
       " 'Drone Workshop Training Program',\n",
       " 'QY66 D1 Drone - 6 Axis Gyro RC Quadcopter Without camera',\n",
       " 'Sky King Drone 6 Axis Gyro RC Quadcopter Without camera',\n",
       " 'Pluto Programmable Smartphone Controlled Nano Drone',\n",
       " '3.7V 275mAH Lithium Polymer(LiPo) Rechargeable Battery for RC Drone',\n",
       " 'Big Foot Mini Monster Truck']"
      ]
     },
     "execution_count": 30,
     "metadata": {},
     "output_type": "execute_result"
    }
   ],
   "source": [
    "result=scraper.get_result_similar('https://yoshops.com/t/drones',group_by_alias=True)\n",
    "drones=result['Title_2']\n",
    "drones\n"
   ]
  },
  {
   "cell_type": "code",
   "execution_count": 31,
   "metadata": {},
   "outputs": [],
   "source": [
    "url_3 ='https://yoshops.com/t/rc-helicopter'\n",
    "wanted_list_3 = ['HX-713 Remote Control Helicopter']"
   ]
  },
  {
   "cell_type": "code",
   "execution_count": 32,
   "metadata": {},
   "outputs": [],
   "source": [
    "scraper = AutoScraper()"
   ]
  },
  {
   "cell_type": "code",
   "execution_count": 33,
   "metadata": {},
   "outputs": [
    {
     "name": "stdout",
     "output_type": "stream",
     "text": [
      "['HX-713 Remote Control Helicopter', 'Falcon Drone Four Axis Aircraft with 2.4 GHz RC, Blade Guard, Headless Mode LED Without Camera', 'Diabolo Captain America Civil War Q Series Hyun Lights Upgraded Mini Drone Without Camera', 'Avengers Captain America Drone Four Axis Aircraft with 2.4 GHz Without Camera', 'HX708 Remote Control Helicopter', 'HX-715 Flying Helicopter With Remote Control Toy', 'Magic Tracks Bend Flex & Glow Racetrack with LED Flashing Race Cars Battery Operated', 'Mini VR BOX Virtual Reality Headsets with ultra 3D glasses Compatible with Android and IOS Devices (Blue, Black)', 'Flying Avengers Hero Induction Control helicopter', 'Sensor Flying Helicopter with charger', 'Hohot Singing Doll (Pink)', 'Big Foot Mini Monster Truck']\n"
     ]
    }
   ],
   "source": [
    "scraper = AutoScraper()\n",
    "result = scraper.build(url_3,wanted_list_3)\n",
    "print(result)"
   ]
  },
  {
   "cell_type": "code",
   "execution_count": 34,
   "metadata": {},
   "outputs": [
    {
     "data": {
      "text/plain": [
       "{'rule_yyw9': ['HX-713 Remote Control Helicopter',\n",
       "  'Falcon Drone Four Axis Aircraft with 2.4 GHz RC, Blade Guard, Headless Mode LED Without Camera',\n",
       "  'Diabolo Captain America Civil War Q Series Hyun Lights Upgraded Mini Drone Without Camera',\n",
       "  'Avengers Captain America Drone Four Axis Aircraft with 2.4 GHz Without Camera',\n",
       "  'HX708 Remote Control Helicopter',\n",
       "  'HX-715 Flying Helicopter With Remote Control Toy',\n",
       "  'Magic Tracks Bend Flex & Glow Racetrack with LED Flashing Race Cars Battery Operated',\n",
       "  'Mini VR BOX Virtual Reality Headsets with ultra 3D glasses Compatible with Android and IOS Devices (Blue, Black)',\n",
       "  'Flying Avengers Hero Induction Control helicopter',\n",
       "  'Sensor Flying Helicopter with charger',\n",
       "  'Hohot Singing Doll (Pink)',\n",
       "  'Big Foot Mini Monster Truck'],\n",
       " 'rule_kux7': ['HX-713 Remote Control Helicopter',\n",
       "  'Falcon Drone Four Axis Aircraft with 2.4 GHz RC, Blade Guard, Headless Mode LED Without Camera',\n",
       "  'Diabolo Captain America Civil War Q Series Hyun Lights Upgraded Mini Drone Without Camera',\n",
       "  'Avengers Captain America Drone Four Axis Aircraft with 2.4 GHz Without Camera',\n",
       "  'HX708 Remote Control Helicopter',\n",
       "  'HX-715 Flying Helicopter With Remote Control Toy',\n",
       "  'Magic Tracks Bend Flex & Glow Racetrack with LED Flashing Race Cars Battery Operated',\n",
       "  'Mini VR BOX Virtual Reality Headsets with ultra 3D glasses Compatible with Android and IOS Devices (Blue, Black)',\n",
       "  'Flying Avengers Hero Induction Control helicopter',\n",
       "  'Sensor Flying Helicopter with charger',\n",
       "  'Hohot Singing Doll (Pink)',\n",
       "  'Big Foot Mini Monster Truck'],\n",
       " 'rule_hdq0': ['HX-713 Remote Control Helicopter',\n",
       "  'Falcon Drone Four Axis Aircraft with 2.4 GHz RC, Blade Guard, Headless Mode LED Without Camera',\n",
       "  'Diabolo Captain America Civil War Q Series Hyun Lights Upgraded Mini Drone Without Camera',\n",
       "  'Avengers Captain America Drone Four Axis Aircraft with 2.4 GHz Without Camera',\n",
       "  'HX708 Remote Control Helicopter',\n",
       "  'HX-715 Flying Helicopter With Remote Control Toy',\n",
       "  'Magic Tracks Bend Flex & Glow Racetrack with LED Flashing Race Cars Battery Operated',\n",
       "  'Mini VR BOX Virtual Reality Headsets with ultra 3D glasses Compatible with Android and IOS Devices (Blue, Black)',\n",
       "  'Flying Avengers Hero Induction Control helicopter',\n",
       "  'Sensor Flying Helicopter with charger',\n",
       "  'Hohot Singing Doll (Pink)',\n",
       "  'Big Foot Mini Monster Truck']}"
      ]
     },
     "execution_count": 34,
     "metadata": {},
     "output_type": "execute_result"
    }
   ],
   "source": [
    "scraper.get_result_similar(url_3,grouped=True)"
   ]
  },
  {
   "cell_type": "code",
   "execution_count": 36,
   "metadata": {},
   "outputs": [],
   "source": [
    "scraper.set_rule_aliases({'rule_yyw9':'Title_3'})\n",
    "scraper.keep_rules(['rule_yyw9'])\n",
    "scraper.save('my-search_3')"
   ]
  },
  {
   "cell_type": "code",
   "execution_count": 37,
   "metadata": {},
   "outputs": [
    {
     "data": {
      "text/plain": [
       "['HX-713 Remote Control Helicopter',\n",
       " 'Falcon Drone Four Axis Aircraft with 2.4 GHz RC, Blade Guard, Headless Mode LED Without Camera',\n",
       " 'Diabolo Captain America Civil War Q Series Hyun Lights Upgraded Mini Drone Without Camera',\n",
       " 'Avengers Captain America Drone Four Axis Aircraft with 2.4 GHz Without Camera',\n",
       " 'HX708 Remote Control Helicopter',\n",
       " 'HX-715 Flying Helicopter With Remote Control Toy',\n",
       " 'Magic Tracks Bend Flex & Glow Racetrack with LED Flashing Race Cars Battery Operated',\n",
       " 'Mini VR BOX Virtual Reality Headsets with ultra 3D glasses Compatible with Android and IOS Devices (Blue, Black)',\n",
       " 'Flying Avengers Hero Induction Control helicopter',\n",
       " 'Sensor Flying Helicopter with charger',\n",
       " 'Hohot Singing Doll (Pink)',\n",
       " 'Big Foot Mini Monster Truck']"
      ]
     },
     "execution_count": 37,
     "metadata": {},
     "output_type": "execute_result"
    }
   ],
   "source": [
    "result=scraper.get_result_similar('https://yoshops.com/t/rc-helicopter',group_by_alias=True)\n",
    "helicopter=result['Title_3']\n",
    "helicopter"
   ]
  },
  {
   "cell_type": "code",
   "execution_count": 38,
   "metadata": {},
   "outputs": [],
   "source": [
    "url_4 = 'https://yoshops.com/t/soft-toys'\n",
    "wanted_list_4 = ['Piggy Bank Saving Coin Box']"
   ]
  },
  {
   "cell_type": "code",
   "execution_count": 39,
   "metadata": {},
   "outputs": [],
   "source": [
    "scraper = AutoScraper()\n"
   ]
  },
  {
   "cell_type": "code",
   "execution_count": 40,
   "metadata": {},
   "outputs": [
    {
     "name": "stdout",
     "output_type": "stream",
     "text": [
      "['Piggy Bank Saving Coin Box', 'Teddy Tiger Home Décor Soft Toy', 'Color Clay Set for Kids Children Colors Air Dry Clay', 'Fruits Shape Eraser For Kids Best Birthday Gifts', 'Magnetic Alphabet Letters and Numbers for Kids Learning']\n"
     ]
    }
   ],
   "source": [
    "scraper = AutoScraper()\n",
    "result = scraper.build(url_4,wanted_list_4)\n",
    "print(result)"
   ]
  },
  {
   "cell_type": "code",
   "execution_count": 41,
   "metadata": {},
   "outputs": [
    {
     "data": {
      "text/plain": [
       "{'rule_k58c': ['Piggy Bank Saving Coin Box',\n",
       "  'Teddy Tiger Home Décor Soft Toy',\n",
       "  'Color Clay Set for Kids Children Colors Air Dry Clay',\n",
       "  'Fruits Shape Eraser For Kids Best Birthday Gifts',\n",
       "  'Magnetic Alphabet Letters and Numbers for Kids Learning'],\n",
       " 'rule_onb4': ['Piggy Bank Saving Coin Box',\n",
       "  'Teddy Tiger Home Décor Soft Toy',\n",
       "  'Color Clay Set for Kids Children Colors Air Dry Clay',\n",
       "  'Fruits Shape Eraser For Kids Best Birthday Gifts',\n",
       "  'Magnetic Alphabet Letters and Numbers for Kids Learning'],\n",
       " 'rule_vrnt': ['Piggy Bank Saving Coin Box',\n",
       "  'Teddy Tiger Home Décor Soft Toy',\n",
       "  'Color Clay Set for Kids Children Colors Air Dry Clay',\n",
       "  'Fruits Shape Eraser For Kids Best Birthday Gifts',\n",
       "  'Magnetic Alphabet Letters and Numbers for Kids Learning']}"
      ]
     },
     "execution_count": 41,
     "metadata": {},
     "output_type": "execute_result"
    }
   ],
   "source": [
    "scraper.get_result_similar(url_4,grouped=True)"
   ]
  },
  {
   "cell_type": "code",
   "execution_count": 43,
   "metadata": {},
   "outputs": [],
   "source": [
    "scraper.set_rule_aliases({'rule_k58c':'Title_4'})\n",
    "scraper.keep_rules(['rule_k58c'])\n",
    "scraper.save('my-search_4')\n"
   ]
  },
  {
   "cell_type": "code",
   "execution_count": 44,
   "metadata": {},
   "outputs": [
    {
     "data": {
      "text/plain": [
       "['Piggy Bank Saving Coin Box',\n",
       " 'Teddy Tiger Home Décor Soft Toy',\n",
       " 'Color Clay Set for Kids Children Colors Air Dry Clay',\n",
       " 'Fruits Shape Eraser For Kids Best Birthday Gifts',\n",
       " 'Magnetic Alphabet Letters and Numbers for Kids Learning']"
      ]
     },
     "execution_count": 44,
     "metadata": {},
     "output_type": "execute_result"
    }
   ],
   "source": [
    "result=scraper.get_result_similar('https://yoshops.com/t/soft-toys',group_by_alias=True)\n",
    "toys=result['Title_4']\n",
    "toys"
   ]
  },
  {
   "cell_type": "code",
   "execution_count": 45,
   "metadata": {},
   "outputs": [],
   "source": [
    "url_5 = 'https://yoshops.com/t/gaming-accessories'\n",
    "wanted_list_5 = ['Sony PlayStation PS2 Gaming Console 150 GB Hard Disk With 50 Games Preloaded(Black)']\n"
   ]
  },
  {
   "cell_type": "code",
   "execution_count": 46,
   "metadata": {},
   "outputs": [
    {
     "name": "stdout",
     "output_type": "stream",
     "text": [
      "['Sony PlayStation PS2 Gaming Console 150 GB Hard Disk With 50 Games Preloaded(Black)', 'Yoshops VR BOX Virtual Reality Glasses Headset 2.0 View Suitable For 4-6 Inch Smartphones', 'Sony PlayStation PS3 Console Slim 320 GB (Black)', 'Barbie Doll (pink)', 'Super Power JCB Truck Construction Loader Excavator Crane Toys', 'Falcon Drone Four Axis Aircraft with 2.4 GHz RC, Blade Guard, Headless Mode LED Without Camera', 'Sony PlayStation PS1 with in-built DVD Player (Black)', 'Diabolo Captain America Civil War Q Series Hyun Lights Upgraded Mini Drone Without Camera', 'Avengers Captain America Drone Four Axis Aircraft with 2.4 GHz Without Camera', 'Zebion Gamepad', 'Zebronics ZEBVR100 Virtual Reality Kit VR box 3D 360 Degree', 'Zebronics Radiant Multimedia Gaming Keyboard', 'Barbie Doll Toy Combo pack(2 Pack)', 'Zebronics Card Reader VR BOX Special Combo', 'Sony PlayStation PS4 Slim 1TB Console(Black)', 'Zebronics ZEB-VR Virtual Reality Headset VR BOX', '3 Wheeled Scooter For Kids', 'SONY PlayStation PS4 PRO 1TB Hard Disk(Black)', 'Toy Family Doll House Set', 'Toy Gundam Robot with Gun (Red)', 'Combo Set of 6 Pull Back Toy Car Small', 'Mini VR BOX Virtual Reality Headsets with ultra 3D glasses Compatible with Android and IOS Devices (Blue, Black)', 'Kasi yatra set silk cotton fabric decorated with rich kundans, brooches and laces', 'Wedding Doll Toy', 'Family Doll and Barbie doll set Toy Combo pack', 'Combo pack Toys Savoir Robot and Barbie doll', 'Kitchen Utensil Cooking Toy Cookware Set', 'Batman rc Car with Remote Control with Rechargeable Batteries & Charger', 'Little Chef Kitchen Set With Convertible Suitcase', 'Ultramodern Bullet Train Game Set', 'Hohot Singing Doll (Pink)', 'Plastic Smart Stick Intelligence Educational Building Blocks Construction Kids Toys (Multicolor)', 'Musical Dancing Boys with Flashing Lights Toys for Babies,Kids,Girls,Boys', 'Mions Mini Skateboard for Kids with Skating Kit(helmet+elbow+knee)', 'Big Foot Mini Monster Truck', 'Ladies Small Hand Bag Color(Balck,Pink,Green)', 'Piggy Bank Saving Coin Box', 'Color Clay Set for Kids Children Colors Air Dry Clay', 'Fruits Shape Eraser For Kids Best Birthday Gifts', 'Magnetic Alphabet Letters and Numbers for Kids Learning']\n"
     ]
    }
   ],
   "source": [
    "scraper = AutoScraper()\n",
    "\n",
    "scraper = AutoScraper()\n",
    "result = scraper.build(url_5,wanted_list_5)\n",
    "print(result)"
   ]
  },
  {
   "cell_type": "code",
   "execution_count": 47,
   "metadata": {},
   "outputs": [
    {
     "data": {
      "text/plain": [
       "{'rule_g09v': ['Sony PlayStation PS2 Gaming Console 150 GB Hard Disk With 50 Games Preloaded(Black)',\n",
       "  'Yoshops VR BOX Virtual Reality Glasses Headset 2.0 View Suitable For 4-6 Inch Smartphones',\n",
       "  'Sony PlayStation PS3 Console Slim 320 GB (Black)',\n",
       "  'Barbie Doll (pink)',\n",
       "  'Super Power JCB Truck Construction Loader Excavator Crane Toys',\n",
       "  'Falcon Drone Four Axis Aircraft with 2.4 GHz RC, Blade Guard, Headless Mode LED Without Camera',\n",
       "  'Sony PlayStation PS1 with in-built DVD Player (Black)',\n",
       "  'Diabolo Captain America Civil War Q Series Hyun Lights Upgraded Mini Drone Without Camera',\n",
       "  'Avengers Captain America Drone Four Axis Aircraft with 2.4 GHz Without Camera',\n",
       "  'Zebion Gamepad',\n",
       "  'Zebronics ZEBVR100 Virtual Reality Kit VR box 3D 360 Degree',\n",
       "  'Zebronics Radiant Multimedia Gaming Keyboard',\n",
       "  'Barbie Doll Toy Combo pack(2 Pack)',\n",
       "  'Zebronics Card Reader VR BOX Special Combo',\n",
       "  'Sony PlayStation PS4 Slim 1TB Console(Black)',\n",
       "  'Zebronics ZEB-VR Virtual Reality Headset VR BOX',\n",
       "  '3 Wheeled Scooter For Kids',\n",
       "  'SONY PlayStation PS4 PRO 1TB Hard Disk(Black)',\n",
       "  'Toy Family Doll House Set',\n",
       "  'Toy Gundam Robot with Gun (Red)',\n",
       "  'Combo Set of 6 Pull Back Toy Car Small',\n",
       "  'Mini VR BOX Virtual Reality Headsets with ultra 3D glasses Compatible with Android and IOS Devices (Blue, Black)',\n",
       "  'Kasi yatra set silk cotton fabric decorated with rich kundans, brooches and laces',\n",
       "  'Wedding Doll Toy',\n",
       "  'Family Doll and Barbie doll set Toy Combo pack',\n",
       "  'Combo pack Toys Savoir Robot and Barbie doll',\n",
       "  'Kitchen Utensil Cooking Toy Cookware Set',\n",
       "  'Batman rc Car with Remote Control with Rechargeable Batteries & Charger',\n",
       "  'Little Chef Kitchen Set With Convertible Suitcase',\n",
       "  'Ultramodern Bullet Train Game Set',\n",
       "  'Hohot Singing Doll (Pink)',\n",
       "  'Plastic Smart Stick Intelligence Educational Building Blocks Construction Kids Toys (Multicolor)',\n",
       "  'Musical Dancing Boys with Flashing Lights Toys for Babies,Kids,Girls,Boys',\n",
       "  'Mions Mini Skateboard for Kids with Skating Kit(helmet+elbow+knee)',\n",
       "  'Big Foot Mini Monster Truck',\n",
       "  'Ladies Small Hand Bag Color(Balck,Pink,Green)',\n",
       "  'Piggy Bank Saving Coin Box',\n",
       "  'Color Clay Set for Kids Children Colors Air Dry Clay',\n",
       "  'Fruits Shape Eraser For Kids Best Birthday Gifts',\n",
       "  'Magnetic Alphabet Letters and Numbers for Kids Learning'],\n",
       " 'rule_g2fj': ['Sony PlayStation PS2 Gaming Console 150 GB Hard Disk With 50 Games Preloaded(Black)',\n",
       "  'Yoshops VR BOX Virtual Reality Glasses Headset 2.0 View Suitable For 4-6 Inch Smartphones',\n",
       "  'Sony PlayStation PS3 Console Slim 320 GB (Black)',\n",
       "  'Barbie Doll (pink)',\n",
       "  'Super Power JCB Truck Construction Loader Excavator Crane Toys',\n",
       "  'Falcon Drone Four Axis Aircraft with 2.4 GHz RC, Blade Guard, Headless Mode LED Without Camera',\n",
       "  'Sony PlayStation PS1 with in-built DVD Player (Black)',\n",
       "  'Diabolo Captain America Civil War Q Series Hyun Lights Upgraded Mini Drone Without Camera',\n",
       "  'Avengers Captain America Drone Four Axis Aircraft with 2.4 GHz Without Camera',\n",
       "  'Zebion Gamepad',\n",
       "  'Zebronics ZEBVR100 Virtual Reality Kit VR box 3D 360 Degree',\n",
       "  'Zebronics Radiant Multimedia Gaming Keyboard',\n",
       "  'Barbie Doll Toy Combo pack(2 Pack)',\n",
       "  'Zebronics Card Reader VR BOX Special Combo',\n",
       "  'Sony PlayStation PS4 Slim 1TB Console(Black)',\n",
       "  'Zebronics ZEB-VR Virtual Reality Headset VR BOX',\n",
       "  '3 Wheeled Scooter For Kids',\n",
       "  'SONY PlayStation PS4 PRO 1TB Hard Disk(Black)',\n",
       "  'Toy Family Doll House Set',\n",
       "  'Toy Gundam Robot with Gun (Red)',\n",
       "  'Combo Set of 6 Pull Back Toy Car Small',\n",
       "  'Mini VR BOX Virtual Reality Headsets with ultra 3D glasses Compatible with Android and IOS Devices (Blue, Black)',\n",
       "  'Kasi yatra set silk cotton fabric decorated with rich kundans, brooches and laces',\n",
       "  'Wedding Doll Toy',\n",
       "  'Family Doll and Barbie doll set Toy Combo pack',\n",
       "  'Combo pack Toys Savoir Robot and Barbie doll',\n",
       "  'Kitchen Utensil Cooking Toy Cookware Set',\n",
       "  'Batman rc Car with Remote Control with Rechargeable Batteries & Charger',\n",
       "  'Little Chef Kitchen Set With Convertible Suitcase',\n",
       "  'Ultramodern Bullet Train Game Set',\n",
       "  'Hohot Singing Doll (Pink)',\n",
       "  'Plastic Smart Stick Intelligence Educational Building Blocks Construction Kids Toys (Multicolor)',\n",
       "  'Musical Dancing Boys with Flashing Lights Toys for Babies,Kids,Girls,Boys',\n",
       "  'Mions Mini Skateboard for Kids with Skating Kit(helmet+elbow+knee)',\n",
       "  'Big Foot Mini Monster Truck',\n",
       "  'Ladies Small Hand Bag Color(Balck,Pink,Green)',\n",
       "  'Piggy Bank Saving Coin Box',\n",
       "  'Color Clay Set for Kids Children Colors Air Dry Clay',\n",
       "  'Fruits Shape Eraser For Kids Best Birthday Gifts',\n",
       "  'Magnetic Alphabet Letters and Numbers for Kids Learning'],\n",
       " 'rule_s08u': ['Sony PlayStation PS2 Gaming Console 150 GB Hard Disk With 50 Games Preloaded(Black)',\n",
       "  'Yoshops VR BOX Virtual Reality Glasses Headset 2.0 View Suitable For 4-6 Inch Smartphones',\n",
       "  'Sony PlayStation PS3 Console Slim 320 GB (Black)',\n",
       "  'Barbie Doll (pink)',\n",
       "  'Super Power JCB Truck Construction Loader Excavator Crane Toys',\n",
       "  'Falcon Drone Four Axis Aircraft with 2.4 GHz RC, Blade Guard, Headless Mode LED Without Camera',\n",
       "  'Sony PlayStation PS1 with in-built DVD Player (Black)',\n",
       "  'Diabolo Captain America Civil War Q Series Hyun Lights Upgraded Mini Drone Without Camera',\n",
       "  'Avengers Captain America Drone Four Axis Aircraft with 2.4 GHz Without Camera',\n",
       "  'Zebion Gamepad',\n",
       "  'Zebronics ZEBVR100 Virtual Reality Kit VR box 3D 360 Degree',\n",
       "  'Zebronics Radiant Multimedia Gaming Keyboard',\n",
       "  'Barbie Doll Toy Combo pack(2 Pack)',\n",
       "  'Zebronics Card Reader VR BOX Special Combo',\n",
       "  'Sony PlayStation PS4 Slim 1TB Console(Black)',\n",
       "  'Zebronics ZEB-VR Virtual Reality Headset VR BOX',\n",
       "  '3 Wheeled Scooter For Kids',\n",
       "  'SONY PlayStation PS4 PRO 1TB Hard Disk(Black)',\n",
       "  'Toy Family Doll House Set',\n",
       "  'Toy Gundam Robot with Gun (Red)',\n",
       "  'Combo Set of 6 Pull Back Toy Car Small',\n",
       "  'Mini VR BOX Virtual Reality Headsets with ultra 3D glasses Compatible with Android and IOS Devices (Blue, Black)',\n",
       "  'Kasi yatra set silk cotton fabric decorated with rich kundans, brooches and laces',\n",
       "  'Wedding Doll Toy',\n",
       "  'Family Doll and Barbie doll set Toy Combo pack',\n",
       "  'Combo pack Toys Savoir Robot and Barbie doll',\n",
       "  'Kitchen Utensil Cooking Toy Cookware Set',\n",
       "  'Batman rc Car with Remote Control with Rechargeable Batteries & Charger',\n",
       "  'Little Chef Kitchen Set With Convertible Suitcase',\n",
       "  'Ultramodern Bullet Train Game Set',\n",
       "  'Hohot Singing Doll (Pink)',\n",
       "  'Plastic Smart Stick Intelligence Educational Building Blocks Construction Kids Toys (Multicolor)',\n",
       "  'Musical Dancing Boys with Flashing Lights Toys for Babies,Kids,Girls,Boys',\n",
       "  'Mions Mini Skateboard for Kids with Skating Kit(helmet+elbow+knee)',\n",
       "  'Big Foot Mini Monster Truck',\n",
       "  'Ladies Small Hand Bag Color(Balck,Pink,Green)',\n",
       "  'Piggy Bank Saving Coin Box',\n",
       "  'Color Clay Set for Kids Children Colors Air Dry Clay',\n",
       "  'Fruits Shape Eraser For Kids Best Birthday Gifts',\n",
       "  'Magnetic Alphabet Letters and Numbers for Kids Learning']}"
      ]
     },
     "execution_count": 47,
     "metadata": {},
     "output_type": "execute_result"
    }
   ],
   "source": [
    "scraper.get_result_similar(url_5,grouped=True)\n"
   ]
  },
  {
   "cell_type": "code",
   "execution_count": 49,
   "metadata": {},
   "outputs": [],
   "source": [
    "scraper.set_rule_aliases({'rule_g09v':'Title_5'})\n",
    "scraper.keep_rules(['rule_g09v'])\n",
    "scraper.save('my-search_5')"
   ]
  },
  {
   "cell_type": "code",
   "execution_count": 50,
   "metadata": {},
   "outputs": [
    {
     "data": {
      "text/plain": [
       "['HX-713 Remote Control Helicopter',\n",
       " 'Falcon Drone Four Axis Aircraft with 2.4 GHz RC, Blade Guard, Headless Mode LED Without Camera',\n",
       " 'Diabolo Captain America Civil War Q Series Hyun Lights Upgraded Mini Drone Without Camera',\n",
       " 'Avengers Captain America Drone Four Axis Aircraft with 2.4 GHz Without Camera',\n",
       " 'HX708 Remote Control Helicopter',\n",
       " 'HX-715 Flying Helicopter With Remote Control Toy',\n",
       " 'Magic Tracks Bend Flex & Glow Racetrack with LED Flashing Race Cars Battery Operated',\n",
       " 'Mini VR BOX Virtual Reality Headsets with ultra 3D glasses Compatible with Android and IOS Devices (Blue, Black)',\n",
       " 'Flying Avengers Hero Induction Control helicopter',\n",
       " 'Sensor Flying Helicopter with charger',\n",
       " 'Hohot Singing Doll (Pink)',\n",
       " 'Big Foot Mini Monster Truck']"
      ]
     },
     "execution_count": 50,
     "metadata": {},
     "output_type": "execute_result"
    }
   ],
   "source": [
    "result=scraper.get_result_similar('https://yoshops.com/t/rc-helicopter',group_by_alias=True)\n",
    "game_acces=result['Title_5']\n",
    "game_acces\n"
   ]
  },
  {
   "cell_type": "code",
   "execution_count": null,
   "metadata": {},
   "outputs": [],
   "source": []
  },
  {
   "cell_type": "code",
   "execution_count": null,
   "metadata": {},
   "outputs": [],
   "source": []
  }
 ],
 "metadata": {
  "kernelspec": {
   "display_name": "Python 3",
   "language": "python",
   "name": "python3"
  },
  "language_info": {
   "codemirror_mode": {
    "name": "ipython",
    "version": 3
   },
   "file_extension": ".py",
   "mimetype": "text/x-python",
   "name": "python",
   "nbconvert_exporter": "python",
   "pygments_lexer": "ipython3",
   "version": "3.8.5"
  }
 },
 "nbformat": 4,
 "nbformat_minor": 4
}
